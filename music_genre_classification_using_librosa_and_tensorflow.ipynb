{
  "nbformat": 4,
  "nbformat_minor": 2,
  "metadata": {
    "colab": {
      "name": "music_genre_classification_using_librosa_and_tensorflow.ipynb",
      "provenance": [],
      "authorship_tag": "ABX9TyNM2mqVcKG1+AvXVUx9eZS0"
    },
    "kernelspec": {
      "name": "python3",
      "display_name": "Python 3"
    },
    "language_info": {
      "name": "python"
    }
  },
  "cells": [
    {
      "cell_type": "code",
      "execution_count": null,
      "source": [
        "!pip install gdown librosa"
      ],
      "outputs": [],
      "metadata": {}
    },
    {
      "cell_type": "markdown",
      "source": [
        "# **1) Dataset download**"
      ],
      "metadata": {
        "id": "lykuC2usDb5S"
      }
    },
    {
      "cell_type": "code",
      "execution_count": null,
      "source": [
        "!gdown --fuzzy 'https://drive.google.com/file/d/1nZz6EHYl7M6ReCd7BUHzhuDN52mA36_q/view?usp=drivesdk'"
      ],
      "outputs": [
        {
          "output_type": "stream",
          "name": "stdout",
          "text": [
            "Downloading...\n",
            "From: https://drive.google.com/uc?id=1nZz6EHYl7M6ReCd7BUHzhuDN52mA36_q\n",
            "To: /content/gtzan.rar\n",
            "100% 2.02G/2.02G [00:12<00:00, 162MB/s]\n"
          ]
        }
      ],
      "metadata": {
        "id": "DXHww_XlE5j8",
        "colab": {
          "base_uri": "https://localhost:8080/"
        },
        "outputId": "8a907ea6-12b8-4df4-803a-a563cbcb7c6b"
      }
    },
    {
      "cell_type": "markdown",
      "source": [
        "# **2) Decompress Dataset**"
      ],
      "metadata": {
        "id": "DGINbax0DpnM"
      }
    },
    {
      "cell_type": "code",
      "execution_count": null,
      "source": [
        "!apt-get update\n",
        "!apt-get install p7zip-full -y"
      ],
      "outputs": [],
      "metadata": {}
    },
    {
      "cell_type": "code",
      "execution_count": null,
      "source": [
        "!7z e gtzan.rar -odataset_rar\n",
        "!unrar e dataset_rar/reggae.rar dataset/reggae/\n",
        "!unrar e dataset_rar/rock.rar dataset/rock/\n",
        "!unrar e dataset_rar/classical.rar dataset/classical/"
      ],
      "outputs": [
        {
          "output_type": "stream",
          "name": "stdout",
          "text": [
            "\n",
            "7-Zip [64] 16.02 : Copyright (c) 1999-2016 Igor Pavlov : 2016-05-21\n",
            "p7zip Version 16.02 (locale=en_US.UTF-8,Utf16=on,HugeFiles=on,64 bits,2 CPUs Intel(R) Xeon(R) CPU @ 2.20GHz (406F0),ASM,AES-NI)\n",
            "\n",
            "Scanning the drive for archives:\n",
            "  0M Scan\b\b\b\b\b\b\b\b\b         \b\b\b\b\b\b\b\b\b1 file, 2016537100 bytes (1924 MiB)\n",
            "\n",
            "Extracting archive: gtzan.rar\n",
            "--\n",
            "Path = gtzan.rar\n",
            "Type = Rar\n",
            "Physical Size = 2016537100\n",
            "Solid = -\n",
            "Blocks = 10\n",
            "Multivolume = -\n",
            "Volumes = 1\n",
            "\n",
            "  0%\b\b\b\b    \b\b\b\b  6% - disco.rar\b\b\b\b\b\b\b\b\b\b\b\b\b\b\b\b                \b\b\b\b\b\b\b\b\b\b\b\b\b\b\b\b  9% 1 - hiphop.rar\b\b\b\b\b\b\b\b\b\b\b\b\b\b\b\b\b\b\b                   \b\b\b\b\b\b\b\b\b\b\b\b\b\b\b\b\b\b\b 13% 1 - hiphop.rar\b\b\b\b\b\b\b\b\b\b\b\b\b\b\b\b\b\b\b                   \b\b\b\b\b\b\b\b\b\b\b\b\b\b\b\b\b\b\b 18% 2 - jazz.rar\b\b\b\b\b\b\b\b\b\b\b\b\b\b\b\b\b                 \b\b\b\b\b\b\b\b\b\b\b\b\b\b\b\b\b 22% 2 - jazz.rar\b\b\b\b\b\b\b\b\b\b\b\b\b\b\b\b\b                 \b\b\b\b\b\b\b\b\b\b\b\b\b\b\b\b\b 23% 2 - jazz.rar\b\b\b\b\b\b\b\b\b\b\b\b\b\b\b\b\b                 \b\b\b\b\b\b\b\b\b\b\b\b\b\b\b\b\b 24% 2 - jazz.rar\b\b\b\b\b\b\b\b\b\b\b\b\b\b\b\b\b                 \b\b\b\b\b\b\b\b\b\b\b\b\b\b\b\b\b 27% 2 - jazz.rar\b\b\b\b\b\b\b\b\b\b\b\b\b\b\b\b\b                 \b\b\b\b\b\b\b\b\b\b\b\b\b\b\b\b\b 30% 3 - metal.rar\b\b\b\b\b\b\b\b\b\b\b\b\b\b\b\b\b\b                  \b\b\b\b\b\b\b\b\b\b\b\b\b\b\b\b\b\b 32% 3 - metal.rar\b\b\b\b\b\b\b\b\b\b\b\b\b\b\b\b\b\b                  \b\b\b\b\b\b\b\b\b\b\b\b\b\b\b\b\b\b 35% 3 - metal.rar\b\b\b\b\b\b\b\b\b\b\b\b\b\b\b\b\b\b                  \b\b\b\b\b\b\b\b\b\b\b\b\b\b\b\b\b\b 37% 3 - metal.rar\b\b\b\b\b\b\b\b\b\b\b\b\b\b\b\b\b\b                  \b\b\b\b\b\b\b\b\b\b\b\b\b\b\b\b\b\b 40% 3 - metal.rar\b\b\b\b\b\b\b\b\b\b\b\b\b\b\b\b\b\b                  \b\b\b\b\b\b\b\b\b\b\b\b\b\b\b\b\b\b 42% 4 - pop.rar\b\b\b\b\b\b\b\b\b\b\b\b\b\b\b\b                \b\b\b\b\b\b\b\b\b\b\b\b\b\b\b\b 45% 4 - pop.rar\b\b\b\b\b\b\b\b\b\b\b\b\b\b\b\b                \b\b\b\b\b\b\b\b\b\b\b\b\b\b\b\b 47% 4 - pop.rar\b\b\b\b\b\b\b\b\b\b\b\b\b\b\b\b                \b\b\b\b\b\b\b\b\b\b\b\b\b\b\b\b 50% 4 - pop.rar\b\b\b\b\b\b\b\b\b\b\b\b\b\b\b\b                \b\b\b\b\b\b\b\b\b\b\b\b\b\b\b\b 52% 4 - pop.rar\b\b\b\b\b\b\b\b\b\b\b\b\b\b\b\b                \b\b\b\b\b\b\b\b\b\b\b\b\b\b\b\b 55% 5 - reggae.rar\b\b\b\b\b\b\b\b\b\b\b\b\b\b\b\b\b\b\b                   \b\b\b\b\b\b\b\b\b\b\b\b\b\b\b\b\b\b\b 57% 5 - reggae.rar\b\b\b\b\b\b\b\b\b\b\b\b\b\b\b\b\b\b\b                   \b\b\b\b\b\b\b\b\b\b\b\b\b\b\b\b\b\b\b 60% 6 - rock.rar\b\b\b\b\b\b\b\b\b\b\b\b\b\b\b\b\b                 \b\b\b\b\b\b\b\b\b\b\b\b\b\b\b\b\b 62% 6 - rock.rar\b\b\b\b\b\b\b\b\b\b\b\b\b\b\b\b\b                 \b\b\b\b\b\b\b\b\b\b\b\b\b\b\b\b\b 65% 6 - rock.rar\b\b\b\b\b\b\b\b\b\b\b\b\b\b\b\b\b                 \b\b\b\b\b\b\b\b\b\b\b\b\b\b\b\b\b 67% 6 - rock.rar\b\b\b\b\b\b\b\b\b\b\b\b\b\b\b\b\b                 \b\b\b\b\b\b\b\b\b\b\b\b\b\b\b\b\b 70% 6 - rock.rar\b\b\b\b\b\b\b\b\b\b\b\b\b\b\b\b\b                 \b\b\b\b\b\b\b\b\b\b\b\b\b\b\b\b\b 73% 7 - blues.rar\b\b\b\b\b\b\b\b\b\b\b\b\b\b\b\b\b\b                  \b\b\b\b\b\b\b\b\b\b\b\b\b\b\b\b\b\b 75% 7 - blues.rar\b\b\b\b\b\b\b\b\b\b\b\b\b\b\b\b\b\b                  \b\b\b\b\b\b\b\b\b\b\b\b\b\b\b\b\b\b 76% 7 - blues.rar\b\b\b\b\b\b\b\b\b\b\b\b\b\b\b\b\b\b                  \b\b\b\b\b\b\b\b\b\b\b\b\b\b\b\b\b\b 78% 7 - blues.rar\b\b\b\b\b\b\b\b\b\b\b\b\b\b\b\b\b\b                  \b\b\b\b\b\b\b\b\b\b\b\b\b\b\b\b\b\b 80% 7 - blues.rar\b\b\b\b\b\b\b\b\b\b\b\b\b\b\b\b\b\b                  \b\b\b\b\b\b\b\b\b\b\b\b\b\b\b\b\b\b 83% 8 - classical.rar\b\b\b\b\b\b\b\b\b\b\b\b\b\b\b\b\b\b\b\b\b\b                      \b\b\b\b\b\b\b\b\b\b\b\b\b\b\b\b\b\b\b\b\b\b 85% 8 - classical.rar\b\b\b\b\b\b\b\b\b\b\b\b\b\b\b\b\b\b\b\b\b\b                      \b\b\b\b\b\b\b\b\b\b\b\b\b\b\b\b\b\b\b\b\b\b 87% 8 - classical.rar\b\b\b\b\b\b\b\b\b\b\b\b\b\b\b\b\b\b\b\b\b\b                      \b\b\b\b\b\b\b\b\b\b\b\b\b\b\b\b\b\b\b\b\b\b 90% 8 - classical.rar\b\b\b\b\b\b\b\b\b\b\b\b\b\b\b\b\b\b\b\b\b\b                      \b\b\b\b\b\b\b\b\b\b\b\b\b\b\b\b\b\b\b\b\b\b 94% 9 - country.rar\b\b\b\b\b\b\b\b\b\b\b\b\b\b\b\b\b\b\b\b                    \b\b\b\b\b\b\b\b\b\b\b\b\b\b\b\b\b\b\b\b 98% 9 - country.rar\b\b\b\b\b\b\b\b\b\b\b\b\b\b\b\b\b\b\b\b                    \b\b\b\b\b\b\b\b\b\b\b\b\b\b\b\b\b\b\b\bEverything is Ok\n",
            "\n",
            "Files: 10\n",
            "Size:       2016536659\n",
            "Compressed: 2016537100\n",
            "\n",
            "UNRAR 5.50 freeware      Copyright (c) 1993-2017 Alexander Roshal\n",
            "\n",
            "\n",
            "Extracting from dataset_rar/reggae.rar\n",
            "\n",
            "Creating    dataset                                                   OK\n",
            "Creating    dataset/reggae                                            OK\n",
            "Extracting  dataset/reggae/reggae.00000.wav                              \b\b\b\b  0%\b\b\b\b  1%\b\b\b\b\b  OK \n",
            "Extracting  dataset/reggae/reggae.00001.wav                              \b\b\b\b  1%\b\b\b\b\b  OK \n",
            "Extracting  dataset/reggae/reggae.00002.wav                              \b\b\b\b  2%\b\b\b\b\b  OK \n",
            "Extracting  dataset/reggae/reggae.00003.wav                              \b\b\b\b  2%\b\b\b\b  3%\b\b\b\b\b  OK \n",
            "Extracting  dataset/reggae/reggae.00004.wav                              \b\b\b\b  3%\b\b\b\b  4%\b\b\b\b\b  OK \n",
            "Extracting  dataset/reggae/reggae.00005.wav                              \b\b\b\b  4%\b\b\b\b  5%\b\b\b\b\b  OK \n",
            "Extracting  dataset/reggae/reggae.00006.wav                              \b\b\b\b  6%\b\b\b\b\b  OK \n",
            "Extracting  dataset/reggae/reggae.00007.wav                              \b\b\b\b  6%\b\b\b\b  7%\b\b\b\b\b  OK \n",
            "Extracting  dataset/reggae/reggae.00008.wav                              \b\b\b\b  7%\b\b\b\b  8%\b\b\b\b\b  OK \n",
            "Extracting  dataset/reggae/reggae.00009.wav                              \b\b\b\b  8%\b\b\b\b  9%\b\b\b\b\b  OK \n",
            "Extracting  dataset/reggae/reggae.00010.wav                              \b\b\b\b  9%\b\b\b\b 10%\b\b\b\b\b  OK \n",
            "Extracting  dataset/reggae/reggae.00011.wav                              \b\b\b\b 10%\b\b\b\b 11%\b\b\b\b\b  OK \n",
            "Extracting  dataset/reggae/reggae.00012.wav                              \b\b\b\b 11%\b\b\b\b 12%\b\b\b\b\b  OK \n",
            "Extracting  dataset/reggae/reggae.00013.wav                              \b\b\b\b 12%\b\b\b\b 13%\b\b\b\b\b  OK \n",
            "Extracting  dataset/reggae/reggae.00014.wav                              \b\b\b\b 13%\b\b\b\b 14%\b\b\b\b\b  OK \n",
            "Extracting  dataset/reggae/reggae.00015.wav                              \b\b\b\b 14%\b\b\b\b 15%\b\b\b\b\b  OK \n",
            "Extracting  dataset/reggae/reggae.00016.wav                              \b\b\b\b 15%\b\b\b\b 16%\b\b\b\b\b  OK \n",
            "Extracting  dataset/reggae/reggae.00017.wav                              \b\b\b\b 16%\b\b\b\b 17%\b\b\b\b\b  OK \n",
            "Extracting  dataset/reggae/reggae.00018.wav                              \b\b\b\b 17%\b\b\b\b 18%\b\b\b\b\b  OK \n",
            "Extracting  dataset/reggae/reggae.00019.wav                              \b\b\b\b 18%\b\b\b\b 19%\b\b\b\b\b  OK \n",
            "Extracting  dataset/reggae/reggae.00020.wav                              \b\b\b\b 19%\b\b\b\b 20%\b\b\b\b\b  OK \n",
            "Extracting  dataset/reggae/reggae.00021.wav                              \b\b\b\b 20%\b\b\b\b 21%\b\b\b\b\b  OK \n",
            "Extracting  dataset/reggae/reggae.00022.wav                              \b\b\b\b 22%\b\b\b\b 23%\b\b\b\b\b  OK \n",
            "Extracting  dataset/reggae/reggae.00023.wav                              \b\b\b\b 23%\b\b\b\b 24%\b\b\b\b\b  OK \n",
            "Extracting  dataset/reggae/reggae.00024.wav                              \b\b\b\b 24%\b\b\b\b 25%\b\b\b\b\b  OK \n",
            "Extracting  dataset/reggae/reggae.00025.wav                              \b\b\b\b 25%\b\b\b\b 26%\b\b\b\b\b  OK \n",
            "Extracting  dataset/reggae/reggae.00026.wav                              \b\b\b\b 26%\b\b\b\b 27%\b\b\b\b\b  OK \n",
            "Extracting  dataset/reggae/reggae.00027.wav                              \b\b\b\b 27%\b\b\b\b 28%\b\b\b\b\b  OK \n",
            "Extracting  dataset/reggae/reggae.00028.wav                              \b\b\b\b 28%\b\b\b\b 29%\b\b\b\b\b  OK \n",
            "Extracting  dataset/reggae/reggae.00029.wav                              \b\b\b\b 29%\b\b\b\b\b  OK \n",
            "Extracting  dataset/reggae/reggae.00030.wav                              \b\b\b\b 30%\b\b\b\b\b  OK \n",
            "Extracting  dataset/reggae/reggae.00031.wav                              \b\b\b\b 30%\b\b\b\b 31%\b\b\b\b\b  OK \n",
            "Extracting  dataset/reggae/reggae.00032.wav                              \b\b\b\b 31%\b\b\b\b 32%\b\b\b\b\b  OK \n",
            "Extracting  dataset/reggae/reggae.00033.wav                              \b\b\b\b 32%\b\b\b\b 33%\b\b\b\b\b  OK \n",
            "Extracting  dataset/reggae/reggae.00034.wav                              \b\b\b\b 33%\b\b\b\b 34%\b\b\b\b\b  OK \n",
            "Extracting  dataset/reggae/reggae.00035.wav                              \b\b\b\b 34%\b\b\b\b 35%\b\b\b\b\b  OK \n",
            "Extracting  dataset/reggae/reggae.00036.wav                              \b\b\b\b 35%\b\b\b\b 36%\b\b\b\b\b  OK \n",
            "Extracting  dataset/reggae/reggae.00037.wav                              \b\b\b\b 36%\b\b\b\b 37%\b\b\b\b\b  OK \n",
            "Extracting  dataset/reggae/reggae.00038.wav                              \b\b\b\b 37%\b\b\b\b 38%\b\b\b\b\b  OK \n",
            "Extracting  dataset/reggae/reggae.00039.wav                              \b\b\b\b 38%\b\b\b\b 39%\b\b\b\b\b  OK \n",
            "Extracting  dataset/reggae/reggae.00040.wav                              \b\b\b\b 39%\b\b\b\b 40%\b\b\b\b\b  OK \n",
            "Extracting  dataset/reggae/reggae.00041.wav                              \b\b\b\b 40%\b\b\b\b 41%\b\b\b\b\b  OK \n",
            "Extracting  dataset/reggae/reggae.00042.wav                              \b\b\b\b 41%\b\b\b\b 42%\b\b\b\b\b  OK \n",
            "Extracting  dataset/reggae/reggae.00043.wav                              \b\b\b\b 42%\b\b\b\b 43%\b\b\b\b\b  OK \n",
            "Extracting  dataset/reggae/reggae.00044.wav                              \b\b\b\b 43%\b\b\b\b 44%\b\b\b\b\b  OK \n",
            "Extracting  dataset/reggae/reggae.00045.wav                              \b\b\b\b 44%\b\b\b\b 45%\b\b\b\b\b  OK \n",
            "Extracting  dataset/reggae/reggae.00046.wav                              \b\b\b\b 45%\b\b\b\b 46%\b\b\b\b\b  OK \n",
            "Extracting  dataset/reggae/reggae.00047.wav                              \b\b\b\b 46%\b\b\b\b 47%\b\b\b\b\b  OK \n",
            "Extracting  dataset/reggae/reggae.00048.wav                              \b\b\b\b 47%\b\b\b\b 48%\b\b\b\b\b  OK \n",
            "Extracting  dataset/reggae/reggae.00049.wav                              \b\b\b\b 48%\b\b\b\b 49%\b\b\b\b\b  OK \n",
            "Extracting  dataset/reggae/reggae.00050.wav                              \b\b\b\b 49%\b\b\b\b 50%\b\b\b\b\b  OK \n",
            "Extracting  dataset/reggae/reggae.00051.wav                              \b\b\b\b 50%\b\b\b\b 51%\b\b\b\b\b  OK \n",
            "Extracting  dataset/reggae/reggae.00052.wav                              \b\b\b\b 51%\b\b\b\b 52%\b\b\b\b\b  OK \n",
            "Extracting  dataset/reggae/reggae.00053.wav                              \b\b\b\b 52%\b\b\b\b 53%\b\b\b\b\b  OK \n",
            "Extracting  dataset/reggae/reggae.00054.wav                              \b\b\b\b 53%\b\b\b\b 54%\b\b\b\b\b  OK \n",
            "Extracting  dataset/reggae/reggae.00055.wav                              \b\b\b\b 54%\b\b\b\b 55%\b\b\b\b\b  OK \n",
            "Extracting  dataset/reggae/reggae.00056.wav                              \b\b\b\b 55%\b\b\b\b 56%\b\b\b\b\b  OK \n",
            "Extracting  dataset/reggae/reggae.00057.wav                              \b\b\b\b 56%\b\b\b\b 57%\b\b\b\b\b  OK \n",
            "Extracting  dataset/reggae/reggae.00058.wav                              \b\b\b\b 57%\b\b\b\b 58%\b\b\b\b\b  OK \n",
            "Extracting  dataset/reggae/reggae.00059.wav                              \b\b\b\b 58%\b\b\b\b 59%\b\b\b\b\b  OK \n",
            "Extracting  dataset/reggae/reggae.00060.wav                              \b\b\b\b 59%\b\b\b\b 60%\b\b\b\b\b  OK \n",
            "Extracting  dataset/reggae/reggae.00061.wav                              \b\b\b\b 60%\b\b\b\b 61%\b\b\b\b\b  OK \n",
            "Extracting  dataset/reggae/reggae.00062.wav                              \b\b\b\b 61%\b\b\b\b 62%\b\b\b\b\b  OK \n",
            "Extracting  dataset/reggae/reggae.00063.wav                              \b\b\b\b 62%\b\b\b\b 63%\b\b\b\b\b  OK \n",
            "Extracting  dataset/reggae/reggae.00064.wav                              \b\b\b\b 63%\b\b\b\b 64%\b\b\b\b\b  OK \n",
            "Extracting  dataset/reggae/reggae.00065.wav                              \b\b\b\b 64%\b\b\b\b 65%\b\b\b\b\b  OK \n",
            "Extracting  dataset/reggae/reggae.00066.wav                              \b\b\b\b 65%\b\b\b\b 66%\b\b\b\b\b  OK \n",
            "Extracting  dataset/reggae/reggae.00067.wav                              \b\b\b\b 66%\b\b\b\b 67%\b\b\b\b\b  OK \n",
            "Extracting  dataset/reggae/reggae.00068.wav                              \b\b\b\b 67%\b\b\b\b 68%\b\b\b\b\b  OK \n",
            "Extracting  dataset/reggae/reggae.00069.wav                              \b\b\b\b 68%\b\b\b\b 69%\b\b\b\b\b  OK \n",
            "Extracting  dataset/reggae/reggae.00070.wav                              \b\b\b\b 69%\b\b\b\b 70%\b\b\b\b\b  OK \n",
            "Extracting  dataset/reggae/reggae.00071.wav                              \b\b\b\b 70%\b\b\b\b 71%\b\b\b\b\b  OK \n",
            "Extracting  dataset/reggae/reggae.00072.wav                              \b\b\b\b 71%\b\b\b\b 72%\b\b\b\b\b  OK \n",
            "Extracting  dataset/reggae/reggae.00073.wav                              \b\b\b\b 72%\b\b\b\b 73%\b\b\b\b\b  OK \n",
            "Extracting  dataset/reggae/reggae.00074.wav                              \b\b\b\b 73%\b\b\b\b 74%\b\b\b\b\b  OK \n",
            "Extracting  dataset/reggae/reggae.00075.wav                              \b\b\b\b 75%\b\b\b\b 76%\b\b\b\b\b  OK \n",
            "Extracting  dataset/reggae/reggae.00076.wav                              \b\b\b\b 76%\b\b\b\b 77%\b\b\b\b\b  OK \n",
            "Extracting  dataset/reggae/reggae.00077.wav                              \b\b\b\b 77%\b\b\b\b 78%\b\b\b\b\b  OK \n",
            "Extracting  dataset/reggae/reggae.00078.wav                              \b\b\b\b 78%\b\b\b\b 79%\b\b\b\b\b  OK \n",
            "Extracting  dataset/reggae/reggae.00079.wav                              \b\b\b\b 79%\b\b\b\b 80%\b\b\b\b\b  OK \n",
            "Extracting  dataset/reggae/reggae.00080.wav                              \b\b\b\b 80%\b\b\b\b 81%\b\b\b\b\b  OK \n",
            "Extracting  dataset/reggae/reggae.00081.wav                              \b\b\b\b 81%\b\b\b\b 82%\b\b\b\b\b  OK \n",
            "Extracting  dataset/reggae/reggae.00082.wav                              \b\b\b\b 82%\b\b\b\b 83%\b\b\b\b\b  OK \n",
            "Extracting  dataset/reggae/reggae.00083.wav                              \b\b\b\b 83%\b\b\b\b 84%\b\b\b\b\b  OK \n",
            "Extracting  dataset/reggae/reggae.00084.wav                              \b\b\b\b 84%\b\b\b\b 85%\b\b\b\b\b  OK \n",
            "Extracting  dataset/reggae/reggae.00085.wav                              \b\b\b\b 85%\b\b\b\b 86%\b\b\b\b\b  OK \n",
            "Extracting  dataset/reggae/reggae.00086.wav                              \b\b\b\b 86%\b\b\b\b\b  OK \n",
            "Extracting  dataset/reggae/reggae.00087.wav                              \b\b\b\b 86%\b\b\b\b 87%\b\b\b\b\b  OK \n",
            "Extracting  dataset/reggae/reggae.00088.wav                              \b\b\b\b 87%\b\b\b\b 88%\b\b\b\b\b  OK \n",
            "Extracting  dataset/reggae/reggae.00089.wav                              \b\b\b\b 88%\b\b\b\b 89%\b\b\b\b\b  OK \n",
            "Extracting  dataset/reggae/reggae.00090.wav                              \b\b\b\b 89%\b\b\b\b 90%\b\b\b\b\b  OK \n",
            "Extracting  dataset/reggae/reggae.00091.wav                              \b\b\b\b 90%\b\b\b\b 91%\b\b\b\b\b  OK \n",
            "Extracting  dataset/reggae/reggae.00092.wav                              \b\b\b\b 91%\b\b\b\b 92%\b\b\b\b\b  OK \n",
            "Extracting  dataset/reggae/reggae.00093.wav                              \b\b\b\b 92%\b\b\b\b 93%\b\b\b\b\b  OK \n",
            "Extracting  dataset/reggae/reggae.00094.wav                              \b\b\b\b 93%\b\b\b\b 94%\b\b\b\b\b  OK \n",
            "Extracting  dataset/reggae/reggae.00095.wav                              \b\b\b\b 94%\b\b\b\b 95%\b\b\b\b\b  OK \n",
            "Extracting  dataset/reggae/reggae.00096.wav                              \b\b\b\b 95%\b\b\b\b 96%\b\b\b\b\b  OK \n",
            "Extracting  dataset/reggae/reggae.00097.wav                              \b\b\b\b 96%\b\b\b\b 97%\b\b\b\b\b  OK \n",
            "Extracting  dataset/reggae/reggae.00098.wav                              \b\b\b\b 97%\b\b\b\b 98%\b\b\b\b\b  OK \n",
            "Extracting  dataset/reggae/reggae.00099.wav                              \b\b\b\b 98%\b\b\b\b 99%\b\b\b\b\b  OK \n",
            "All OK\n",
            "\n",
            "UNRAR 5.50 freeware      Copyright (c) 1993-2017 Alexander Roshal\n",
            "\n",
            "\n",
            "Extracting from dataset_rar/rock.rar\n",
            "\n",
            "Creating    dataset/rock                                              OK\n",
            "Extracting  dataset/rock/rock.00000.wav                                  \b\b\b\b  0%\b\b\b\b\b  OK \n",
            "Extracting  dataset/rock/rock.00001.wav                                  \b\b\b\b  0%\b\b\b\b  1%\b\b\b\b\b  OK \n",
            "Extracting  dataset/rock/rock.00002.wav                                  \b\b\b\b  1%\b\b\b\b  2%\b\b\b\b\b  OK \n",
            "Extracting  dataset/rock/rock.00003.wav                                  \b\b\b\b  2%\b\b\b\b  3%\b\b\b\b\b  OK \n",
            "Extracting  dataset/rock/rock.00004.wav                                  \b\b\b\b  3%\b\b\b\b  4%\b\b\b\b\b  OK \n",
            "Extracting  dataset/rock/rock.00005.wav                                  \b\b\b\b  4%\b\b\b\b  5%\b\b\b\b\b  OK \n",
            "Extracting  dataset/rock/rock.00006.wav                                  \b\b\b\b  5%\b\b\b\b  6%\b\b\b\b\b  OK \n",
            "Extracting  dataset/rock/rock.00007.wav                                  \b\b\b\b  6%\b\b\b\b  7%\b\b\b\b\b  OK \n",
            "Extracting  dataset/rock/rock.00008.wav                                  \b\b\b\b  7%\b\b\b\b  8%\b\b\b\b\b  OK \n",
            "Extracting  dataset/rock/rock.00009.wav                                  \b\b\b\b  8%\b\b\b\b  9%\b\b\b\b\b  OK \n",
            "Extracting  dataset/rock/rock.00010.wav                                  \b\b\b\b  9%\b\b\b\b 10%\b\b\b\b\b  OK \n",
            "Extracting  dataset/rock/rock.00011.wav                                  \b\b\b\b 10%\b\b\b\b 11%\b\b\b\b\b  OK \n",
            "Extracting  dataset/rock/rock.00012.wav                                  \b\b\b\b 11%\b\b\b\b\b  OK \n",
            "Extracting  dataset/rock/rock.00013.wav                                  \b\b\b\b 11%\b\b\b\b 12%\b\b\b\b\b  OK \n",
            "Extracting  dataset/rock/rock.00014.wav                                  \b\b\b\b 12%\b\b\b\b 13%\b\b\b\b\b  OK \n",
            "Extracting  dataset/rock/rock.00015.wav                                  \b\b\b\b 13%\b\b\b\b 14%\b\b\b\b\b  OK \n",
            "Extracting  dataset/rock/rock.00016.wav                                  \b\b\b\b 14%\b\b\b\b 15%\b\b\b\b\b  OK \n",
            "Extracting  dataset/rock/rock.00017.wav                                  \b\b\b\b 15%\b\b\b\b 16%\b\b\b\b\b  OK \n",
            "Extracting  dataset/rock/rock.00018.wav                                  \b\b\b\b 16%\b\b\b\b 17%\b\b\b\b\b  OK \n",
            "Extracting  dataset/rock/rock.00019.wav                                  \b\b\b\b 17%\b\b\b\b 18%\b\b\b\b\b  OK \n",
            "Extracting  dataset/rock/rock.00020.wav                                  \b\b\b\b 19%\b\b\b\b 20%\b\b\b\b\b  OK \n",
            "Extracting  dataset/rock/rock.00021.wav                                  \b\b\b\b 20%\b\b\b\b 21%\b\b\b\b\b  OK \n",
            "Extracting  dataset/rock/rock.00022.wav                                  \b\b\b\b 21%\b\b\b\b 22%\b\b\b\b\b  OK \n",
            "Extracting  dataset/rock/rock.00023.wav                                  \b\b\b\b 22%\b\b\b\b 23%\b\b\b\b\b  OK \n",
            "Extracting  dataset/rock/rock.00024.wav                                  \b\b\b\b 23%\b\b\b\b 24%\b\b\b\b\b  OK \n",
            "Extracting  dataset/rock/rock.00025.wav                                  \b\b\b\b 24%\b\b\b\b 25%\b\b\b\b\b  OK \n",
            "Extracting  dataset/rock/rock.00026.wav                                  \b\b\b\b 25%\b\b\b\b 26%\b\b\b\b\b  OK \n",
            "Extracting  dataset/rock/rock.00027.wav                                  \b\b\b\b 26%\b\b\b\b 27%\b\b\b\b\b  OK \n",
            "Extracting  dataset/rock/rock.00028.wav                                  \b\b\b\b 27%\b\b\b\b 28%\b\b\b\b\b  OK \n",
            "Extracting  dataset/rock/rock.00029.wav                                  \b\b\b\b 28%\b\b\b\b 29%\b\b\b\b\b  OK \n",
            "Extracting  dataset/rock/rock.00030.wav                                  \b\b\b\b 29%\b\b\b\b 30%\b\b\b\b\b  OK \n",
            "Extracting  dataset/rock/rock.00031.wav                                  \b\b\b\b 30%\b\b\b\b 31%\b\b\b\b\b  OK \n",
            "Extracting  dataset/rock/rock.00032.wav                                  \b\b\b\b 31%\b\b\b\b 32%\b\b\b\b\b  OK \n",
            "Extracting  dataset/rock/rock.00033.wav                                  \b\b\b\b 32%\b\b\b\b 33%\b\b\b\b\b  OK \n",
            "Extracting  dataset/rock/rock.00034.wav                                  \b\b\b\b 33%\b\b\b\b 34%\b\b\b\b\b  OK \n",
            "Extracting  dataset/rock/rock.00035.wav                                  \b\b\b\b 34%\b\b\b\b 35%\b\b\b\b\b  OK \n",
            "Extracting  dataset/rock/rock.00036.wav                                  \b\b\b\b 35%\b\b\b\b 36%\b\b\b\b\b  OK \n",
            "Extracting  dataset/rock/rock.00037.wav                                  \b\b\b\b 36%\b\b\b\b 37%\b\b\b\b\b  OK \n",
            "Extracting  dataset/rock/rock.00038.wav                                  \b\b\b\b 37%\b\b\b\b 38%\b\b\b\b\b  OK \n",
            "Extracting  dataset/rock/rock.00039.wav                                  \b\b\b\b 38%\b\b\b\b 39%\b\b\b\b\b  OK \n",
            "Extracting  dataset/rock/rock.00040.wav                                  \b\b\b\b 39%\b\b\b\b 40%\b\b\b\b\b  OK \n",
            "Extracting  dataset/rock/rock.00041.wav                                  \b\b\b\b 40%\b\b\b\b 41%\b\b\b\b\b  OK \n",
            "Extracting  dataset/rock/rock.00042.wav                                  \b\b\b\b 41%\b\b\b\b 42%\b\b\b\b\b  OK \n",
            "Extracting  dataset/rock/rock.00043.wav                                  \b\b\b\b 42%\b\b\b\b 43%\b\b\b\b\b  OK \n",
            "Extracting  dataset/rock/rock.00044.wav                                  \b\b\b\b 43%\b\b\b\b 44%\b\b\b\b\b  OK \n",
            "Extracting  dataset/rock/rock.00045.wav                                  \b\b\b\b 44%\b\b\b\b 45%\b\b\b\b\b  OK \n",
            "Extracting  dataset/rock/rock.00046.wav                                  \b\b\b\b 45%\b\b\b\b 46%\b\b\b\b\b  OK \n",
            "Extracting  dataset/rock/rock.00047.wav                                  \b\b\b\b 46%\b\b\b\b 47%\b\b\b\b\b  OK \n",
            "Extracting  dataset/rock/rock.00048.wav                                  \b\b\b\b 47%\b\b\b\b 48%\b\b\b\b\b  OK \n",
            "Extracting  dataset/rock/rock.00049.wav                                  \b\b\b\b 48%\b\b\b\b 49%\b\b\b\b\b  OK \n",
            "Extracting  dataset/rock/rock.00050.wav                                  \b\b\b\b 49%\b\b\b\b 50%\b\b\b\b\b  OK \n",
            "Extracting  dataset/rock/rock.00051.wav                                  \b\b\b\b 50%\b\b\b\b 51%\b\b\b\b\b  OK \n",
            "Extracting  dataset/rock/rock.00052.wav                                  \b\b\b\b 51%\b\b\b\b 52%\b\b\b\b\b  OK \n",
            "Extracting  dataset/rock/rock.00053.wav                                  \b\b\b\b 52%\b\b\b\b 53%\b\b\b\b\b  OK \n",
            "Extracting  dataset/rock/rock.00054.wav                                  \b\b\b\b 53%\b\b\b\b 54%\b\b\b\b\b  OK \n",
            "Extracting  dataset/rock/rock.00055.wav                                  \b\b\b\b 54%\b\b\b\b 55%\b\b\b\b\b  OK \n",
            "Extracting  dataset/rock/rock.00056.wav                                  \b\b\b\b 55%\b\b\b\b 56%\b\b\b\b\b  OK \n",
            "Extracting  dataset/rock/rock.00057.wav                                  \b\b\b\b 56%\b\b\b\b 57%\b\b\b\b\b  OK \n",
            "Extracting  dataset/rock/rock.00058.wav                                  \b\b\b\b 57%\b\b\b\b 58%\b\b\b\b\b  OK \n",
            "Extracting  dataset/rock/rock.00059.wav                                  \b\b\b\b 58%\b\b\b\b 59%\b\b\b\b\b  OK \n",
            "Extracting  dataset/rock/rock.00060.wav                                  \b\b\b\b 59%\b\b\b\b 60%\b\b\b\b\b  OK \n",
            "Extracting  dataset/rock/rock.00061.wav                                  \b\b\b\b 60%\b\b\b\b 61%\b\b\b\b\b  OK \n",
            "Extracting  dataset/rock/rock.00062.wav                                  \b\b\b\b 61%\b\b\b\b 62%\b\b\b\b\b  OK \n",
            "Extracting  dataset/rock/rock.00063.wav                                  \b\b\b\b 62%\b\b\b\b 63%\b\b\b\b\b  OK \n",
            "Extracting  dataset/rock/rock.00064.wav                                  \b\b\b\b 63%\b\b\b\b 64%\b\b\b\b\b  OK \n",
            "Extracting  dataset/rock/rock.00065.wav                                  \b\b\b\b 64%\b\b\b\b 65%\b\b\b\b\b  OK \n",
            "Extracting  dataset/rock/rock.00066.wav                                  \b\b\b\b 65%\b\b\b\b 66%\b\b\b\b\b  OK \n",
            "Extracting  dataset/rock/rock.00067.wav                                  \b\b\b\b 66%\b\b\b\b 67%\b\b\b\b\b  OK \n",
            "Extracting  dataset/rock/rock.00068.wav                                  \b\b\b\b 67%\b\b\b\b 68%\b\b\b\b\b  OK \n",
            "Extracting  dataset/rock/rock.00069.wav                                  \b\b\b\b 68%\b\b\b\b 69%\b\b\b\b\b  OK \n",
            "Extracting  dataset/rock/rock.00070.wav                                  \b\b\b\b 69%\b\b\b\b 70%\b\b\b\b\b  OK \n",
            "Extracting  dataset/rock/rock.00071.wav                                  \b\b\b\b 70%\b\b\b\b 71%\b\b\b\b\b  OK \n",
            "Extracting  dataset/rock/rock.00072.wav                                  \b\b\b\b 71%\b\b\b\b 72%\b\b\b\b\b  OK \n",
            "Extracting  dataset/rock/rock.00073.wav                                  \b\b\b\b 72%\b\b\b\b 73%\b\b\b\b\b  OK \n",
            "Extracting  dataset/rock/rock.00074.wav                                  \b\b\b\b 73%\b\b\b\b 74%\b\b\b\b\b  OK \n",
            "Extracting  dataset/rock/rock.00075.wav                                  \b\b\b\b 74%\b\b\b\b 75%\b\b\b\b\b  OK \n",
            "Extracting  dataset/rock/rock.00076.wav                                  \b\b\b\b 75%\b\b\b\b 76%\b\b\b\b\b  OK \n",
            "Extracting  dataset/rock/rock.00077.wav                                  \b\b\b\b 76%\b\b\b\b 77%\b\b\b\b\b  OK \n",
            "Extracting  dataset/rock/rock.00078.wav                                  \b\b\b\b 77%\b\b\b\b 78%\b\b\b\b\b  OK \n",
            "Extracting  dataset/rock/rock.00079.wav                                  \b\b\b\b 78%\b\b\b\b 79%\b\b\b\b\b  OK \n",
            "Extracting  dataset/rock/rock.00080.wav                                  \b\b\b\b 79%\b\b\b\b 80%\b\b\b\b\b  OK \n",
            "Extracting  dataset/rock/rock.00081.wav                                  \b\b\b\b 80%\b\b\b\b 81%\b\b\b\b\b  OK \n",
            "Extracting  dataset/rock/rock.00082.wav                                  \b\b\b\b 81%\b\b\b\b 82%\b\b\b\b\b  OK \n",
            "Extracting  dataset/rock/rock.00083.wav                                  \b\b\b\b 82%\b\b\b\b 83%\b\b\b\b\b  OK \n",
            "Extracting  dataset/rock/rock.00084.wav                                  \b\b\b\b 83%\b\b\b\b 84%\b\b\b\b\b  OK \n",
            "Extracting  dataset/rock/rock.00085.wav                                  \b\b\b\b 84%\b\b\b\b 85%\b\b\b\b\b  OK \n",
            "Extracting  dataset/rock/rock.00086.wav                                  \b\b\b\b 85%\b\b\b\b 86%\b\b\b\b\b  OK \n",
            "Extracting  dataset/rock/rock.00087.wav                                  \b\b\b\b 86%\b\b\b\b 87%\b\b\b\b\b  OK \n",
            "Extracting  dataset/rock/rock.00088.wav                                  \b\b\b\b 87%\b\b\b\b 88%\b\b\b\b\b  OK \n",
            "Extracting  dataset/rock/rock.00089.wav                                  \b\b\b\b 88%\b\b\b\b 89%\b\b\b\b\b  OK \n",
            "Extracting  dataset/rock/rock.00090.wav                                  \b\b\b\b 89%\b\b\b\b 90%\b\b\b\b\b  OK \n",
            "Extracting  dataset/rock/rock.00091.wav                                  \b\b\b\b 90%\b\b\b\b 91%\b\b\b\b\b  OK \n",
            "Extracting  dataset/rock/rock.00092.wav                                  \b\b\b\b 91%\b\b\b\b 92%\b\b\b\b 93%\b\b\b\b\b  OK \n",
            "Extracting  dataset/rock/rock.00093.wav                                  \b\b\b\b 93%\b\b\b\b 94%\b\b\b\b\b  OK \n",
            "Extracting  dataset/rock/rock.00094.wav                                  \b\b\b\b 94%\b\b\b\b 95%\b\b\b\b\b  OK \n",
            "Extracting  dataset/rock/rock.00095.wav                                  \b\b\b\b 95%\b\b\b\b 96%\b\b\b\b\b  OK \n",
            "Extracting  dataset/rock/rock.00096.wav                                  \b\b\b\b 96%\b\b\b\b 97%\b\b\b\b\b  OK \n",
            "Extracting  dataset/rock/rock.00097.wav                                  \b\b\b\b 97%\b\b\b\b 98%\b\b\b\b\b  OK \n",
            "Extracting  dataset/rock/rock.00098.wav                                  \b\b\b\b 98%\b\b\b\b 99%\b\b\b\b\b  OK \n",
            "Extracting  dataset/rock/rock.00099.wav                                  \b\b\b\b 99%\b\b\b\b\b  OK \n",
            "All OK\n",
            "\n",
            "UNRAR 5.50 freeware      Copyright (c) 1993-2017 Alexander Roshal\n",
            "\n",
            "\n",
            "Extracting from dataset_rar/classical.rar\n",
            "\n",
            "Creating    dataset/classical                                         OK\n",
            "Extracting  dataset/classical/classical.00000.wav                        \b\b\b\b  0%\b\b\b\b  1%\b\b\b\b\b  OK \n",
            "Extracting  dataset/classical/classical.00001.wav                        \b\b\b\b  1%\b\b\b\b  2%\b\b\b\b\b  OK \n",
            "Extracting  dataset/classical/classical.00002.wav                        \b\b\b\b  2%\b\b\b\b  3%\b\b\b\b\b  OK \n",
            "Extracting  dataset/classical/classical.00003.wav                        \b\b\b\b  3%\b\b\b\b  4%\b\b\b\b\b  OK \n",
            "Extracting  dataset/classical/classical.00004.wav                        \b\b\b\b  4%\b\b\b\b  5%\b\b\b\b\b  OK \n",
            "Extracting  dataset/classical/classical.00005.wav                        \b\b\b\b  5%\b\b\b\b  6%\b\b\b\b\b  OK \n",
            "Extracting  dataset/classical/classical.00006.wav                        \b\b\b\b  6%\b\b\b\b  7%\b\b\b\b\b  OK \n",
            "Extracting  dataset/classical/classical.00007.wav                        \b\b\b\b  7%\b\b\b\b  8%\b\b\b\b\b  OK \n",
            "Extracting  dataset/classical/classical.00008.wav                        \b\b\b\b  8%\b\b\b\b  9%\b\b\b\b\b  OK \n",
            "Extracting  dataset/classical/classical.00009.wav                        \b\b\b\b  9%\b\b\b\b 10%\b\b\b\b\b  OK \n",
            "Extracting  dataset/classical/classical.00010.wav                        \b\b\b\b 10%\b\b\b\b 11%\b\b\b\b\b  OK \n",
            "Extracting  dataset/classical/classical.00011.wav                        \b\b\b\b 11%\b\b\b\b 12%\b\b\b\b\b  OK \n",
            "Extracting  dataset/classical/classical.00012.wav                        \b\b\b\b 12%\b\b\b\b 13%\b\b\b\b\b  OK \n",
            "Extracting  dataset/classical/classical.00013.wav                        \b\b\b\b 13%\b\b\b\b 14%\b\b\b\b\b  OK \n",
            "Extracting  dataset/classical/classical.00014.wav                        \b\b\b\b 14%\b\b\b\b 15%\b\b\b\b\b  OK \n",
            "Extracting  dataset/classical/classical.00015.wav                        \b\b\b\b 15%\b\b\b\b 16%\b\b\b\b\b  OK \n",
            "Extracting  dataset/classical/classical.00016.wav                        \b\b\b\b 16%\b\b\b\b 17%\b\b\b\b\b  OK \n",
            "Extracting  dataset/classical/classical.00017.wav                        \b\b\b\b 17%\b\b\b\b 18%\b\b\b\b\b  OK \n",
            "Extracting  dataset/classical/classical.00018.wav                        \b\b\b\b 18%\b\b\b\b 19%\b\b\b\b\b  OK \n",
            "Extracting  dataset/classical/classical.00019.wav                        \b\b\b\b 19%\b\b\b\b 20%\b\b\b\b\b  OK \n",
            "Extracting  dataset/classical/classical.00020.wav                        \b\b\b\b 20%\b\b\b\b 21%\b\b\b\b\b  OK \n",
            "Extracting  dataset/classical/classical.00021.wav                        \b\b\b\b 21%\b\b\b\b 22%\b\b\b\b\b  OK \n",
            "Extracting  dataset/classical/classical.00022.wav                        \b\b\b\b 22%\b\b\b\b 23%\b\b\b\b\b  OK \n",
            "Extracting  dataset/classical/classical.00023.wav                        \b\b\b\b 23%\b\b\b\b 24%\b\b\b\b\b  OK \n",
            "Extracting  dataset/classical/classical.00024.wav                        \b\b\b\b 24%\b\b\b\b 25%\b\b\b\b\b  OK \n",
            "Extracting  dataset/classical/classical.00025.wav                        \b\b\b\b 25%\b\b\b\b 26%\b\b\b\b\b  OK \n",
            "Extracting  dataset/classical/classical.00026.wav                        \b\b\b\b 26%\b\b\b\b 27%\b\b\b\b\b  OK \n",
            "Extracting  dataset/classical/classical.00027.wav                        \b\b\b\b 27%\b\b\b\b 28%\b\b\b\b\b  OK \n",
            "Extracting  dataset/classical/classical.00028.wav                        \b\b\b\b 28%\b\b\b\b 29%\b\b\b\b\b  OK \n",
            "Extracting  dataset/classical/classical.00029.wav                        \b\b\b\b 29%\b\b\b\b 30%\b\b\b\b\b  OK \n",
            "Extracting  dataset/classical/classical.00030.wav                        \b\b\b\b 30%\b\b\b\b 31%\b\b\b\b\b  OK \n",
            "Extracting  dataset/classical/classical.00031.wav                        \b\b\b\b 31%\b\b\b\b\b  OK \n",
            "Extracting  dataset/classical/classical.00032.wav                        \b\b\b\b 32%\b\b\b\b\b  OK \n",
            "Extracting  dataset/classical/classical.00033.wav                        \b\b\b\b 32%\b\b\b\b 33%\b\b\b\b\b  OK \n",
            "Extracting  dataset/classical/classical.00034.wav                        \b\b\b\b 33%\b\b\b\b 34%\b\b\b\b\b  OK \n",
            "Extracting  dataset/classical/classical.00035.wav                        \b\b\b\b 34%\b\b\b\b 35%\b\b\b\b\b  OK \n",
            "Extracting  dataset/classical/classical.00036.wav                        \b\b\b\b 35%\b\b\b\b 36%\b\b\b\b\b  OK \n",
            "Extracting  dataset/classical/classical.00037.wav                        \b\b\b\b 36%\b\b\b\b 37%\b\b\b\b\b  OK \n",
            "Extracting  dataset/classical/classical.00038.wav                        \b\b\b\b 37%\b\b\b\b 38%\b\b\b\b\b  OK \n",
            "Extracting  dataset/classical/classical.00039.wav                        \b\b\b\b 38%\b\b\b\b 39%\b\b\b\b\b  OK \n",
            "Extracting  dataset/classical/classical.00040.wav                        \b\b\b\b 39%\b\b\b\b 40%\b\b\b\b\b  OK \n",
            "Extracting  dataset/classical/classical.00041.wav                        \b\b\b\b 40%\b\b\b\b 41%\b\b\b\b\b  OK \n",
            "Extracting  dataset/classical/classical.00042.wav                        \b\b\b\b 41%\b\b\b\b 42%\b\b\b\b\b  OK \n",
            "Extracting  dataset/classical/classical.00043.wav                        \b\b\b\b 42%\b\b\b\b 43%\b\b\b\b\b  OK \n",
            "Extracting  dataset/classical/classical.00044.wav                        \b\b\b\b 43%\b\b\b\b 44%\b\b\b\b\b  OK \n",
            "Extracting  dataset/classical/classical.00045.wav                        \b\b\b\b 44%\b\b\b\b 45%\b\b\b\b\b  OK \n",
            "Extracting  dataset/classical/classical.00046.wav                        \b\b\b\b 45%\b\b\b\b 46%\b\b\b\b\b  OK \n",
            "Extracting  dataset/classical/classical.00047.wav                        \b\b\b\b 46%\b\b\b\b 47%\b\b\b\b\b  OK \n",
            "Extracting  dataset/classical/classical.00048.wav                        \b\b\b\b 47%\b\b\b\b 48%\b\b\b\b\b  OK \n",
            "Extracting  dataset/classical/classical.00049.wav                        \b\b\b\b 48%\b\b\b\b 49%\b\b\b\b\b  OK \n",
            "Extracting  dataset/classical/classical.00050.wav                        \b\b\b\b 49%\b\b\b\b 50%\b\b\b\b\b  OK \n",
            "Extracting  dataset/classical/classical.00051.wav                        \b\b\b\b 50%\b\b\b\b 51%\b\b\b\b\b  OK \n",
            "Extracting  dataset/classical/classical.00052.wav                        \b\b\b\b 51%\b\b\b\b 52%\b\b\b\b\b  OK \n",
            "Extracting  dataset/classical/classical.00053.wav                        \b\b\b\b 52%\b\b\b\b 53%\b\b\b\b\b  OK \n",
            "Extracting  dataset/classical/classical.00054.wav                        \b\b\b\b 53%\b\b\b\b 54%\b\b\b\b 55%\b\b\b\b\b  OK \n",
            "Extracting  dataset/classical/classical.00055.wav                        \b\b\b\b 55%\b\b\b\b 56%\b\b\b\b\b  OK \n",
            "Extracting  dataset/classical/classical.00056.wav                        \b\b\b\b 56%\b\b\b\b 57%\b\b\b\b\b  OK \n",
            "Extracting  dataset/classical/classical.00057.wav                        \b\b\b\b 57%\b\b\b\b 58%\b\b\b\b\b  OK \n",
            "Extracting  dataset/classical/classical.00058.wav                        \b\b\b\b 58%\b\b\b\b 59%\b\b\b\b\b  OK \n",
            "Extracting  dataset/classical/classical.00059.wav                        \b\b\b\b 59%\b\b\b\b 60%\b\b\b\b\b  OK \n",
            "Extracting  dataset/classical/classical.00060.wav                        \b\b\b\b 60%\b\b\b\b 61%\b\b\b\b\b  OK \n",
            "Extracting  dataset/classical/classical.00061.wav                        \b\b\b\b 61%\b\b\b\b 62%\b\b\b\b\b  OK \n",
            "Extracting  dataset/classical/classical.00062.wav                        \b\b\b\b 62%\b\b\b\b 63%\b\b\b\b\b  OK \n",
            "Extracting  dataset/classical/classical.00063.wav                        \b\b\b\b 63%\b\b\b\b 64%\b\b\b\b\b  OK \n",
            "Extracting  dataset/classical/classical.00064.wav                        \b\b\b\b 64%\b\b\b\b 65%\b\b\b\b\b  OK \n",
            "Extracting  dataset/classical/classical.00065.wav                        \b\b\b\b 65%\b\b\b\b 66%\b\b\b\b\b  OK \n",
            "Extracting  dataset/classical/classical.00066.wav                        \b\b\b\b 66%\b\b\b\b\b  OK \n",
            "Extracting  dataset/classical/classical.00067.wav                        \b\b\b\b 66%\b\b\b\b 67%\b\b\b\b\b  OK \n",
            "Extracting  dataset/classical/classical.00068.wav                        \b\b\b\b 67%\b\b\b\b 68%\b\b\b\b\b  OK \n",
            "Extracting  dataset/classical/classical.00069.wav                        \b\b\b\b 68%\b\b\b\b 69%\b\b\b\b\b  OK \n",
            "Extracting  dataset/classical/classical.00070.wav                        \b\b\b\b 69%\b\b\b\b 70%\b\b\b\b\b  OK \n",
            "Extracting  dataset/classical/classical.00071.wav                        \b\b\b\b 70%\b\b\b\b 71%\b\b\b\b\b  OK \n",
            "Extracting  dataset/classical/classical.00072.wav                        \b\b\b\b 71%\b\b\b\b 72%\b\b\b\b\b  OK \n",
            "Extracting  dataset/classical/classical.00073.wav                        \b\b\b\b 72%\b\b\b\b 73%\b\b\b\b\b  OK \n",
            "Extracting  dataset/classical/classical.00074.wav                        \b\b\b\b 73%\b\b\b\b 74%\b\b\b\b\b  OK \n",
            "Extracting  dataset/classical/classical.00075.wav                        \b\b\b\b 74%\b\b\b\b 75%\b\b\b\b\b  OK \n",
            "Extracting  dataset/classical/classical.00076.wav                        \b\b\b\b 75%\b\b\b\b 76%\b\b\b\b\b  OK \n",
            "Extracting  dataset/classical/classical.00077.wav                        \b\b\b\b 76%\b\b\b\b 77%\b\b\b\b\b  OK \n",
            "Extracting  dataset/classical/classical.00078.wav                        \b\b\b\b 77%\b\b\b\b 78%\b\b\b\b\b  OK \n",
            "Extracting  dataset/classical/classical.00079.wav                        \b\b\b\b 78%\b\b\b\b 79%\b\b\b\b\b  OK \n",
            "Extracting  dataset/classical/classical.00080.wav                        \b\b\b\b 79%\b\b\b\b 80%\b\b\b\b\b  OK \n",
            "Extracting  dataset/classical/classical.00081.wav                        \b\b\b\b 80%\b\b\b\b 81%\b\b\b\b\b  OK \n",
            "Extracting  dataset/classical/classical.00082.wav                        \b\b\b\b 81%\b\b\b\b 82%\b\b\b\b\b  OK \n",
            "Extracting  dataset/classical/classical.00083.wav                        \b\b\b\b 82%\b\b\b\b 83%\b\b\b\b\b  OK \n",
            "Extracting  dataset/classical/classical.00084.wav                        \b\b\b\b 83%\b\b\b\b 84%\b\b\b\b\b  OK \n",
            "Extracting  dataset/classical/classical.00085.wav                        \b\b\b\b 84%\b\b\b\b 85%\b\b\b\b\b  OK \n",
            "Extracting  dataset/classical/classical.00086.wav                        \b\b\b\b 85%\b\b\b\b 86%\b\b\b\b\b  OK \n",
            "Extracting  dataset/classical/classical.00087.wav                        \b\b\b\b 86%\b\b\b\b 87%\b\b\b\b\b  OK \n",
            "Extracting  dataset/classical/classical.00088.wav                        \b\b\b\b 87%\b\b\b\b 88%\b\b\b\b\b  OK \n",
            "Extracting  dataset/classical/classical.00089.wav                        \b\b\b\b 88%\b\b\b\b 89%\b\b\b\b\b  OK \n",
            "Extracting  dataset/classical/classical.00090.wav                        \b\b\b\b 89%\b\b\b\b 90%\b\b\b\b\b  OK \n",
            "Extracting  dataset/classical/classical.00091.wav                        \b\b\b\b 90%\b\b\b\b 91%\b\b\b\b\b  OK \n",
            "Extracting  dataset/classical/classical.00092.wav                        \b\b\b\b 91%\b\b\b\b 92%\b\b\b\b\b  OK \n",
            "Extracting  dataset/classical/classical.00093.wav                        \b\b\b\b 92%\b\b\b\b 93%\b\b\b\b\b  OK \n",
            "Extracting  dataset/classical/classical.00094.wav                        \b\b\b\b 93%\b\b\b\b 94%\b\b\b\b\b  OK \n",
            "Extracting  dataset/classical/classical.00095.wav                        \b\b\b\b 94%\b\b\b\b 95%\b\b\b\b\b  OK \n",
            "Extracting  dataset/classical/classical.00096.wav                        \b\b\b\b 95%\b\b\b\b 96%\b\b\b\b\b  OK \n",
            "Extracting  dataset/classical/classical.00097.wav                        \b\b\b\b 96%\b\b\b\b 97%\b\b\b\b\b  OK \n",
            "Extracting  dataset/classical/classical.00098.wav                        \b\b\b\b 97%\b\b\b\b 98%\b\b\b\b 99%\b\b\b\b\b  OK \n",
            "Extracting  dataset/classical/classical.00099.wav                        \b\b\b\b 99%\b\b\b\b\b  OK \n",
            "All OK\n"
          ]
        }
      ],
      "metadata": {
        "id": "u0jNfLkeLorQ",
        "colab": {
          "base_uri": "https://localhost:8080/"
        },
        "outputId": "f02f3194-cc09-4643-a827-ad589cf35f0d"
      }
    },
    {
      "cell_type": "markdown",
      "source": [
        "# **3) Import librairies**"
      ],
      "metadata": {
        "id": "FnyiNOGvD0hL"
      }
    },
    {
      "cell_type": "code",
      "execution_count": null,
      "source": [
        "import os\n",
        "import numpy\n",
        "from tensorflow import keras\n",
        "import librosa\n",
        "from matplotlib import pyplot"
      ],
      "outputs": [],
      "metadata": {
        "id": "r0xrbml5oYhc"
      }
    },
    {
      "cell_type": "markdown",
      "source": [
        "# **4) Feature functions declarations:**\n",
        "\n",
        "- MFCC\n",
        "- Mel Spectrogram\n",
        "- Chroma Vector\n",
        "- Tonnetz"
      ],
      "metadata": {
        "id": "YTVYMmBjD7N-"
      }
    },
    {
      "cell_type": "code",
      "execution_count": null,
      "source": [
        "def get_mfcc(wav_file_path):\n",
        "  y, sr = librosa.load(wav_file_path, offset=0, duration=30)\n",
        "  mfcc = numpy.array(librosa.feature.mfcc(y=y, sr=sr))\n",
        "  return mfcc"
      ],
      "outputs": [],
      "metadata": {
        "id": "txBtT74nghoP"
      }
    },
    {
      "cell_type": "code",
      "execution_count": null,
      "source": [
        "def get_melspectrogram(wav_file_path):\n",
        "  y, sr = librosa.load(wav_file_path, offset=0, duration=30)\n",
        "  melspectrogram = numpy.array(librosa.feature.melspectrogram(y=y, sr=sr))\n",
        "  return melspectrogram"
      ],
      "outputs": [],
      "metadata": {
        "id": "xlL0Vk8VrmXF"
      }
    },
    {
      "cell_type": "code",
      "execution_count": null,
      "source": [
        "def get_chroma_vector(wav_file_path):\n",
        "  y, sr = librosa.load(wav_file_path)\n",
        "  chroma = numpy.array(librosa.feature.chroma_stft(y=y, sr=sr))\n",
        "  return chroma"
      ],
      "outputs": [],
      "metadata": {
        "id": "_9jLvRzIdZWm"
      }
    },
    {
      "cell_type": "code",
      "execution_count": null,
      "source": [
        "def get_tonnetz(wav_file_path):\n",
        "  y, sr = librosa.load(wav_file_path)\n",
        "  tonnetz = numpy.array(librosa.feature.tonnetz(y=y, sr=sr))\n",
        "  return tonnetz"
      ],
      "outputs": [],
      "metadata": {
        "id": "VUGxvO26gTx_"
      }
    },
    {
      "cell_type": "markdown",
      "source": [
        "# **5) Plot Features as images**"
      ],
      "metadata": {
        "id": "rAaq6VmefqOA"
      }
    },
    {
      "cell_type": "code",
      "execution_count": null,
      "source": [
        "example_file = \"dataset/rock/rock.00085.wav\"\n",
        "mfcc = get_mfcc(example_file)\n",
        "pyplot.imshow(mfcc, interpolation='nearest', aspect='auto')\n",
        "pyplot.show()"
      ],
      "outputs": [
        {
          "output_type": "display_data",
          "data": {
            "image/png": "[encoded data removed]",
            "text/plain": [
              "<Figure size 432x288 with 1 Axes>"
            ]
          },
          "metadata": {
            "needs_background": "light"
          }
        }
      ],
      "metadata": {
        "colab": {
          "base_uri": "https://localhost:8080/",
          "height": 265
        },
        "id": "q5RDeUWmgjB-",
        "outputId": "52fa24e3-07f9-4120-fbeb-060b947e9788"
      }
    },
    {
      "cell_type": "code",
      "execution_count": null,
      "source": [
        "melspectrogram = get_melspectrogram(example_file)\n",
        "pyplot.imshow(melspectrogram, interpolation='nearest', aspect='auto')\n",
        "pyplot.show()"
      ],
      "outputs": [
        {
          "output_type": "display_data",
          "data": {
            "image/png": "[encoded data removed]",
            "text/plain": [
              "<Figure size 432x288 with 1 Axes>"
            ]
          },
          "metadata": {
            "needs_background": "light"
          }
        }
      ],
      "metadata": {
        "colab": {
          "base_uri": "https://localhost:8080/",
          "height": 268
        },
        "id": "ZIktvrs4vGE2",
        "outputId": "45ac9ec4-49d5-4c2e-fd8e-06219602bec1"
      }
    },
    {
      "cell_type": "code",
      "execution_count": null,
      "source": [
        "chroma = get_chroma_vector(example_file)\n",
        "pyplot.imshow(chroma, interpolation='nearest', aspect='auto')\n",
        "pyplot.show()"
      ],
      "outputs": [
        {
          "output_type": "display_data",
          "data": {
            "image/png": "[encoded data removed]",
            "text/plain": [
              "<Figure size 432x288 with 1 Axes>"
            ]
          },
          "metadata": {
            "needs_background": "light"
          }
        }
      ],
      "metadata": {
        "colab": {
          "base_uri": "https://localhost:8080/",
          "height": 265
        },
        "id": "ENBJ97STvvMR",
        "outputId": "553798eb-60a2-49e7-f709-ee06ad04dfb6"
      }
    },
    {
      "cell_type": "code",
      "execution_count": null,
      "source": [
        "tntz = get_tonnetz(example_file)\n",
        "pyplot.imshow(tntz, interpolation='nearest', aspect='auto')\n",
        "pyplot.show()"
      ],
      "outputs": [
        {
          "output_type": "display_data",
          "data": {
            "image/png": "[encoded data removed]",
            "text/plain": [
              "<Figure size 432x288 with 1 Axes>"
            ]
          },
          "metadata": {
            "needs_background": "light"
          }
        }
      ],
      "metadata": {
        "colab": {
          "base_uri": "https://localhost:8080/",
          "height": 265
        },
        "id": "_V4XJpEMvy61",
        "outputId": "f0a9e234-657a-49f3-8fe3-652167a5f4d9"
      }
    },
    {
      "cell_type": "markdown",
      "source": [
        "# **6) Features calculation**"
      ],
      "metadata": {
        "id": "_CvdA95ZEJL5"
      }
    },
    {
      "cell_type": "code",
      "execution_count": null,
      "source": [
        "def get_feature(file_path):\n",
        "  # Extracting MFCC feature\n",
        "  mfcc = get_mfcc(file_path)\n",
        "  mfcc_mean = mfcc.mean(axis=1)\n",
        "  mfcc_min = mfcc.min(axis=1)\n",
        "  mfcc_max = mfcc.max(axis=1)\n",
        "  mfcc_feature = numpy.concatenate( (mfcc_mean, mfcc_min, mfcc_max) )\n",
        "\n",
        "  # Extracting Mel Spectrogram feature\n",
        "  melspectrogram = get_melspectrogram(file_path)\n",
        "  melspectrogram_mean = melspectrogram.mean(axis=1)\n",
        "  melspectrogram_min = melspectrogram.min(axis=1)\n",
        "  melspectrogram_max = melspectrogram.max(axis=1)\n",
        "  melspectrogram_feature = numpy.concatenate( (melspectrogram_mean, melspectrogram_min, melspectrogram_max) )\n",
        "\n",
        "  # Extracting chroma vector feature\n",
        "  chroma = get_chroma_vector(file_path)\n",
        "  chroma_mean = chroma.mean(axis=1)\n",
        "  chroma_min = chroma.min(axis=1)\n",
        "  chroma_max = chroma.max(axis=1)\n",
        "  chroma_feature = numpy.concatenate( (chroma_mean, chroma_min, chroma_max) )\n",
        "\n",
        "  # Extracting tonnetz feature\n",
        "  tntz = get_tonnetz(file_path)\n",
        "  tntz_mean = tntz.mean(axis=1)\n",
        "  tntz_min = tntz.min(axis=1)\n",
        "  tntz_max = tntz.max(axis=1)\n",
        "  tntz_feature = numpy.concatenate( (tntz_mean, tntz_min, tntz_max) ) \n",
        "  \n",
        "  feature = numpy.concatenate( (chroma_feature, melspectrogram_feature, mfcc_feature, tntz_feature) )\n",
        "  return feature"
      ],
      "outputs": [],
      "metadata": {
        "id": "kbD8J8WNzbqQ"
      }
    },
    {
      "cell_type": "code",
      "execution_count": null,
      "source": [
        "directory = 'dataset'\n",
        "genres = ['reggae','classical','rock']\n",
        "features = []\n",
        "labels = []\n",
        "for genre in genres:\n",
        "    print(\"Calculating features for genre : \" + genre)\n",
        "    for file in os.listdir(directory+\"/\"+genre):\n",
        "        file_path = directory+\"/\"+genre+\"/\"+file\n",
        "\n",
        "        features.append(get_feature(file_path))\n",
        "        label = genres.index(genre)\n",
        "        labels.append(label)"
      ],
      "outputs": [
        {
          "output_type": "stream",
          "name": "stdout",
          "text": [
            "Calculating features for genre : reggae\n",
            "Calculating features for genre : classical\n",
            "Calculating features for genre : rock\n"
          ]
        }
      ],
      "metadata": {
        "id": "UjY4HgKOmZwM",
        "colab": {
          "base_uri": "https://localhost:8080/"
        },
        "outputId": "84f257c6-13d2-4cb9-c1ea-76b0a97c8fcc"
      }
    },
    {
      "cell_type": "markdown",
      "source": [
        "# **7) Dataset Training Validation Testing Split**"
      ],
      "metadata": {
        "id": "iKH23HXxX7G1"
      }
    },
    {
      "cell_type": "code",
      "execution_count": null,
      "source": [
        "permutations = numpy.random.permutation(300)\n",
        "features = numpy.array(features)[permutations]\n",
        "labels = numpy.array(labels)[permutations]\n",
        "\n",
        "features_train = features[0:180]\n",
        "labels_train = labels[0:180]\n",
        "\n",
        "features_val = features[180:240]\n",
        "labels_val = labels[180:240]\n",
        "\n",
        "features_test = features[240:300]\n",
        "labels_test = labels[240:300]"
      ],
      "outputs": [],
      "metadata": {
        "id": "bnUsmI7VReLQ"
      }
    },
    {
      "cell_type": "markdown",
      "source": [
        "# **8) Model training**"
      ],
      "metadata": {
        "id": "kAFJSe6HYf3D"
      }
    },
    {
      "cell_type": "code",
      "execution_count": 78,
      "source": [
        "inputs = keras.Input(shape=(498), name=\"feature\")\n",
        "x = keras.layers.Dense(300, activation=\"relu\", name=\"dense_1\")(inputs)\n",
        "x = keras.layers.Dense(200, activation=\"relu\", name=\"dense_2\")(x)\n",
        "outputs = keras.layers.Dense(3, activation=\"softmax\", name=\"predictions\")(x)\n",
        "\n",
        "model = keras.Model(inputs=inputs, outputs=outputs)\n",
        "\n",
        "model.compile(\n",
        "    # Optimizer\n",
        "    optimizer=keras.optimizers.RMSprop(),\n",
        "    # Loss function to minimize\n",
        "    loss=keras.losses.SparseCategoricalCrossentropy(),\n",
        "    # List of metrics to monitor\n",
        "    metrics=[keras.metrics.SparseCategoricalAccuracy()],\n",
        ")\n",
        "model.fit(x=features_train.tolist(),y=labels_train.tolist(),verbose=1,validation_data=(features_val.tolist() , labels_val.tolist()), epochs=64)"
      ],
      "outputs": [
        {
          "output_type": "stream",
          "name": "stdout",
          "text": [
            "Epoch 1/64\n",
            "6/6 [==============================] - 1s 63ms/step - loss: 79.3231 - sparse_categorical_accuracy: 0.5444 - val_loss: 85.5728 - val_sparse_categorical_accuracy: 0.5333\n",
            "Epoch 2/64\n",
            "6/6 [==============================] - 0s 13ms/step - loss: 26.5034 - sparse_categorical_accuracy: 0.7444 - val_loss: 13.5725 - val_sparse_categorical_accuracy: 0.7500\n",
            "Epoch 3/64\n",
            "6/6 [==============================] - 0s 14ms/step - loss: 10.2454 - sparse_categorical_accuracy: 0.8222 - val_loss: 20.8187 - val_sparse_categorical_accuracy: 0.7333\n",
            "Epoch 4/64\n",
            "6/6 [==============================] - 0s 14ms/step - loss: 8.5751 - sparse_categorical_accuracy: 0.8556 - val_loss: 12.1703 - val_sparse_categorical_accuracy: 0.7833\n",
            "Epoch 5/64\n",
            "6/6 [==============================] - 0s 17ms/step - loss: 1.6845 - sparse_categorical_accuracy: 0.9222 - val_loss: 10.2968 - val_sparse_categorical_accuracy: 0.8000\n",
            "Epoch 6/64\n",
            "6/6 [==============================] - 0s 13ms/step - loss: 0.2585 - sparse_categorical_accuracy: 0.9889 - val_loss: 19.2027 - val_sparse_categorical_accuracy: 0.7333\n",
            "Epoch 7/64\n",
            "6/6 [==============================] - 0s 13ms/step - loss: 8.2188 - sparse_categorical_accuracy: 0.8556 - val_loss: 8.8315 - val_sparse_categorical_accuracy: 0.8500\n",
            "Epoch 8/64\n",
            "6/6 [==============================] - 0s 15ms/step - loss: 1.0705 - sparse_categorical_accuracy: 0.9444 - val_loss: 9.3695 - val_sparse_categorical_accuracy: 0.8500\n",
            "Epoch 9/64\n",
            "6/6 [==============================] - 0s 13ms/step - loss: 7.9415e-05 - sparse_categorical_accuracy: 1.0000 - val_loss: 9.3773 - val_sparse_categorical_accuracy: 0.8500\n",
            "Epoch 10/64\n",
            "6/6 [==============================] - 0s 14ms/step - loss: 7.7827e-06 - sparse_categorical_accuracy: 1.0000 - val_loss: 9.3782 - val_sparse_categorical_accuracy: 0.8500\n",
            "Epoch 11/64\n",
            "6/6 [==============================] - 0s 14ms/step - loss: 6.5165e-06 - sparse_categorical_accuracy: 1.0000 - val_loss: 9.3792 - val_sparse_categorical_accuracy: 0.8500\n",
            "Epoch 12/64\n",
            "6/6 [==============================] - 0s 13ms/step - loss: 5.4183e-06 - sparse_categorical_accuracy: 1.0000 - val_loss: 9.3809 - val_sparse_categorical_accuracy: 0.8500\n",
            "Epoch 13/64\n",
            "6/6 [==============================] - 0s 13ms/step - loss: 4.0294e-06 - sparse_categorical_accuracy: 1.0000 - val_loss: 9.3819 - val_sparse_categorical_accuracy: 0.8500\n",
            "Epoch 14/64\n",
            "6/6 [==============================] - 0s 14ms/step - loss: 3.4898e-06 - sparse_categorical_accuracy: 1.0000 - val_loss: 9.3842 - val_sparse_categorical_accuracy: 0.8500\n",
            "Epoch 15/64\n",
            "6/6 [==============================] - 0s 13ms/step - loss: 2.4449e-06 - sparse_categorical_accuracy: 1.0000 - val_loss: 9.3854 - val_sparse_categorical_accuracy: 0.8500\n",
            "Epoch 16/64\n",
            "6/6 [==============================] - 0s 13ms/step - loss: 2.0304e-06 - sparse_categorical_accuracy: 1.0000 - val_loss: 9.3870 - val_sparse_categorical_accuracy: 0.8500\n",
            "Epoch 17/64\n",
            "6/6 [==============================] - 0s 13ms/step - loss: 1.7106e-06 - sparse_categorical_accuracy: 1.0000 - val_loss: 9.3885 - val_sparse_categorical_accuracy: 0.8500\n",
            "Epoch 18/64\n",
            "6/6 [==============================] - 0s 13ms/step - loss: 1.3861e-06 - sparse_categorical_accuracy: 1.0000 - val_loss: 9.3902 - val_sparse_categorical_accuracy: 0.8500\n",
            "Epoch 19/64\n",
            "6/6 [==============================] - 0s 14ms/step - loss: 1.1364e-06 - sparse_categorical_accuracy: 1.0000 - val_loss: 9.3918 - val_sparse_categorical_accuracy: 0.8500\n",
            "Epoch 20/64\n",
            "6/6 [==============================] - 0s 13ms/step - loss: 9.5894e-07 - sparse_categorical_accuracy: 1.0000 - val_loss: 9.3940 - val_sparse_categorical_accuracy: 0.8500\n",
            "Epoch 21/64\n",
            "6/6 [==============================] - 0s 15ms/step - loss: 7.4769e-07 - sparse_categorical_accuracy: 1.0000 - val_loss: 9.3964 - val_sparse_categorical_accuracy: 0.8500\n",
            "Epoch 22/64\n",
            "6/6 [==============================] - 0s 14ms/step - loss: 5.7219e-07 - sparse_categorical_accuracy: 1.0000 - val_loss: 9.3984 - val_sparse_categorical_accuracy: 0.8500\n",
            "Epoch 23/64\n",
            "6/6 [==============================] - 0s 13ms/step - loss: 4.7418e-07 - sparse_categorical_accuracy: 1.0000 - val_loss: 9.4013 - val_sparse_categorical_accuracy: 0.8500\n",
            "Epoch 24/64\n",
            "6/6 [==============================] - 0s 13ms/step - loss: 3.3908e-07 - sparse_categorical_accuracy: 1.0000 - val_loss: 9.4040 - val_sparse_categorical_accuracy: 0.8500\n",
            "Epoch 25/64\n",
            "6/6 [==============================] - 0s 13ms/step - loss: 2.5564e-07 - sparse_categorical_accuracy: 1.0000 - val_loss: 9.4068 - val_sparse_categorical_accuracy: 0.8500\n",
            "Epoch 26/64\n",
            "6/6 [==============================] - 0s 13ms/step - loss: 1.9007e-07 - sparse_categorical_accuracy: 1.0000 - val_loss: 9.4094 - val_sparse_categorical_accuracy: 0.8500\n",
            "Epoch 27/64\n",
            "6/6 [==============================] - 0s 12ms/step - loss: 1.3908e-07 - sparse_categorical_accuracy: 1.0000 - val_loss: 9.4111 - val_sparse_categorical_accuracy: 0.8500\n",
            "Epoch 28/64\n",
            "6/6 [==============================] - 0s 14ms/step - loss: 1.1192e-07 - sparse_categorical_accuracy: 1.0000 - val_loss: 9.4116 - val_sparse_categorical_accuracy: 0.8500\n",
            "Epoch 29/64\n",
            "6/6 [==============================] - 0s 12ms/step - loss: 9.2718e-08 - sparse_categorical_accuracy: 1.0000 - val_loss: 9.4134 - val_sparse_categorical_accuracy: 0.8500\n",
            "Epoch 30/64\n",
            "6/6 [==============================] - 0s 14ms/step - loss: 7.8148e-08 - sparse_categorical_accuracy: 1.0000 - val_loss: 9.4161 - val_sparse_categorical_accuracy: 0.8500\n",
            "Epoch 31/64\n",
            "6/6 [==============================] - 0s 13ms/step - loss: 6.2254e-08 - sparse_categorical_accuracy: 1.0000 - val_loss: 9.4164 - val_sparse_categorical_accuracy: 0.8500\n",
            "Epoch 32/64\n",
            "6/6 [==============================] - 0s 16ms/step - loss: 5.2320e-08 - sparse_categorical_accuracy: 1.0000 - val_loss: 9.4170 - val_sparse_categorical_accuracy: 0.8500\n",
            "Epoch 33/64\n",
            "6/6 [==============================] - 0s 15ms/step - loss: 4.2386e-08 - sparse_categorical_accuracy: 1.0000 - val_loss: 9.4151 - val_sparse_categorical_accuracy: 0.8500\n",
            "Epoch 34/64\n",
            "6/6 [==============================] - 0s 13ms/step - loss: 3.5100e-08 - sparse_categorical_accuracy: 1.0000 - val_loss: 9.4133 - val_sparse_categorical_accuracy: 0.8500\n",
            "Epoch 35/64\n",
            "6/6 [==============================] - 0s 14ms/step - loss: 2.8478e-08 - sparse_categorical_accuracy: 1.0000 - val_loss: 9.4124 - val_sparse_categorical_accuracy: 0.8500\n",
            "Epoch 36/64\n",
            "6/6 [==============================] - 0s 14ms/step - loss: 2.4504e-08 - sparse_categorical_accuracy: 1.0000 - val_loss: 9.4115 - val_sparse_categorical_accuracy: 0.8500\n",
            "Epoch 37/64\n",
            "6/6 [==============================] - 0s 13ms/step - loss: 2.2517e-08 - sparse_categorical_accuracy: 1.0000 - val_loss: 9.4055 - val_sparse_categorical_accuracy: 0.8500\n",
            "Epoch 38/64\n",
            "6/6 [==============================] - 0s 16ms/step - loss: 1.5895e-08 - sparse_categorical_accuracy: 1.0000 - val_loss: 9.4039 - val_sparse_categorical_accuracy: 0.8500\n",
            "Epoch 39/64\n",
            "6/6 [==============================] - 0s 18ms/step - loss: 1.3245e-08 - sparse_categorical_accuracy: 1.0000 - val_loss: 9.4036 - val_sparse_categorical_accuracy: 0.8500\n",
            "Epoch 40/64\n",
            "6/6 [==============================] - 0s 15ms/step - loss: 9.2718e-09 - sparse_categorical_accuracy: 1.0000 - val_loss: 9.3990 - val_sparse_categorical_accuracy: 0.8500\n",
            "Epoch 41/64\n",
            "6/6 [==============================] - 0s 13ms/step - loss: 7.9473e-09 - sparse_categorical_accuracy: 1.0000 - val_loss: 9.3899 - val_sparse_categorical_accuracy: 0.8500\n",
            "Epoch 42/64\n",
            "6/6 [==============================] - 0s 13ms/step - loss: 6.6227e-09 - sparse_categorical_accuracy: 1.0000 - val_loss: 9.3808 - val_sparse_categorical_accuracy: 0.8500\n",
            "Epoch 43/64\n",
            "6/6 [==============================] - 0s 14ms/step - loss: 5.2982e-09 - sparse_categorical_accuracy: 1.0000 - val_loss: 9.3846 - val_sparse_categorical_accuracy: 0.8500\n",
            "Epoch 44/64\n",
            "6/6 [==============================] - 0s 13ms/step - loss: 2.6491e-09 - sparse_categorical_accuracy: 1.0000 - val_loss: 9.3764 - val_sparse_categorical_accuracy: 0.8500\n",
            "Epoch 45/64\n",
            "6/6 [==============================] - 0s 13ms/step - loss: 2.6491e-09 - sparse_categorical_accuracy: 1.0000 - val_loss: 9.3727 - val_sparse_categorical_accuracy: 0.8500\n",
            "Epoch 46/64\n",
            "6/6 [==============================] - 0s 12ms/step - loss: 2.6491e-09 - sparse_categorical_accuracy: 1.0000 - val_loss: 9.3579 - val_sparse_categorical_accuracy: 0.8500\n",
            "Epoch 47/64\n",
            "6/6 [==============================] - 0s 14ms/step - loss: 6.6227e-10 - sparse_categorical_accuracy: 1.0000 - val_loss: 9.3650 - val_sparse_categorical_accuracy: 0.8500\n",
            "Epoch 48/64\n",
            "6/6 [==============================] - 0s 15ms/step - loss: 0.0000e+00 - sparse_categorical_accuracy: 1.0000 - val_loss: 9.3646 - val_sparse_categorical_accuracy: 0.8500\n",
            "Epoch 49/64\n",
            "6/6 [==============================] - 0s 14ms/step - loss: 0.0000e+00 - sparse_categorical_accuracy: 1.0000 - val_loss: 9.3597 - val_sparse_categorical_accuracy: 0.8500\n",
            "Epoch 50/64\n",
            "6/6 [==============================] - 0s 15ms/step - loss: 0.0000e+00 - sparse_categorical_accuracy: 1.0000 - val_loss: 9.3492 - val_sparse_categorical_accuracy: 0.8500\n",
            "Epoch 51/64\n",
            "6/6 [==============================] - 0s 14ms/step - loss: 0.0000e+00 - sparse_categorical_accuracy: 1.0000 - val_loss: 9.3444 - val_sparse_categorical_accuracy: 0.8500\n",
            "Epoch 52/64\n",
            "6/6 [==============================] - 0s 13ms/step - loss: 0.0000e+00 - sparse_categorical_accuracy: 1.0000 - val_loss: 9.3413 - val_sparse_categorical_accuracy: 0.8500\n",
            "Epoch 53/64\n",
            "6/6 [==============================] - 0s 14ms/step - loss: 0.0000e+00 - sparse_categorical_accuracy: 1.0000 - val_loss: 9.3385 - val_sparse_categorical_accuracy: 0.8500\n",
            "Epoch 54/64\n",
            "6/6 [==============================] - 0s 13ms/step - loss: 0.0000e+00 - sparse_categorical_accuracy: 1.0000 - val_loss: 9.3219 - val_sparse_categorical_accuracy: 0.8500\n",
            "Epoch 55/64\n",
            "6/6 [==============================] - 0s 16ms/step - loss: 0.0000e+00 - sparse_categorical_accuracy: 1.0000 - val_loss: 9.3140 - val_sparse_categorical_accuracy: 0.8500\n",
            "Epoch 56/64\n",
            "6/6 [==============================] - 0s 15ms/step - loss: 0.0000e+00 - sparse_categorical_accuracy: 1.0000 - val_loss: 9.3072 - val_sparse_categorical_accuracy: 0.8500\n",
            "Epoch 57/64\n",
            "6/6 [==============================] - 0s 14ms/step - loss: 0.0000e+00 - sparse_categorical_accuracy: 1.0000 - val_loss: 9.2990 - val_sparse_categorical_accuracy: 0.8500\n",
            "Epoch 58/64\n",
            "6/6 [==============================] - 0s 15ms/step - loss: 0.0000e+00 - sparse_categorical_accuracy: 1.0000 - val_loss: 9.2912 - val_sparse_categorical_accuracy: 0.8500\n",
            "Epoch 59/64\n",
            "6/6 [==============================] - 0s 14ms/step - loss: 0.0000e+00 - sparse_categorical_accuracy: 1.0000 - val_loss: 9.2919 - val_sparse_categorical_accuracy: 0.8500\n",
            "Epoch 60/64\n",
            "6/6 [==============================] - 0s 14ms/step - loss: 0.0000e+00 - sparse_categorical_accuracy: 1.0000 - val_loss: 9.2893 - val_sparse_categorical_accuracy: 0.8500\n",
            "Epoch 61/64\n",
            "6/6 [==============================] - 0s 14ms/step - loss: 0.0000e+00 - sparse_categorical_accuracy: 1.0000 - val_loss: 9.2833 - val_sparse_categorical_accuracy: 0.8500\n",
            "Epoch 62/64\n",
            "6/6 [==============================] - 0s 14ms/step - loss: 0.0000e+00 - sparse_categorical_accuracy: 1.0000 - val_loss: 9.2858 - val_sparse_categorical_accuracy: 0.8500\n",
            "Epoch 63/64\n",
            "6/6 [==============================] - 0s 16ms/step - loss: 0.0000e+00 - sparse_categorical_accuracy: 1.0000 - val_loss: 9.2838 - val_sparse_categorical_accuracy: 0.8500\n",
            "Epoch 64/64\n",
            "6/6 [==============================] - 0s 14ms/step - loss: 0.0000e+00 - sparse_categorical_accuracy: 1.0000 - val_loss: 9.2750 - val_sparse_categorical_accuracy: 0.8500\n"
          ]
        },
        {
          "output_type": "execute_result",
          "data": {
            "text/plain": [
              "<keras.callbacks.History at 0x7fde9fe23810>"
            ]
          },
          "metadata": {},
          "execution_count": 78
        }
      ],
      "metadata": {
        "colab": {
          "base_uri": "https://localhost:8080/"
        },
        "id": "Icfz_bJ4ICbk",
        "outputId": "9d5bab9a-e279-433f-8654-ec0d5007b7b8"
      }
    },
    {
      "cell_type": "markdown",
      "source": [
        "# **9) Model Evaluation**"
      ],
      "metadata": {
        "id": "5lxxYP4xYlgc"
      }
    },
    {
      "cell_type": "code",
      "execution_count": 80,
      "source": [
        "score = model.evaluate(x=features_test.tolist(),y=labels_test.tolist(), verbose=0)\n",
        "print('Accuracy : ' + str(score[1]*100) + '%')"
      ],
      "outputs": [
        {
          "output_type": "stream",
          "name": "stdout",
          "text": [
            "Accuracy : 86.33333134651184%\n"
          ]
        }
      ],
      "metadata": {
        "colab": {
          "base_uri": "https://localhost:8080/"
        },
        "id": "e912kOTFXHtU",
        "outputId": "4b8fe02a-4d89-4b5a-abe5-3af3508fe182"
      }
    },
    {
      "cell_type": "markdown",
      "source": [
        "# **10) Classification of a youtube video**\n",
        "\n",
        "**Downloading the wav format of the video**"
      ],
      "metadata": {
        "id": "7d_ozyGrYqmG"
      }
    },
    {
      "cell_type": "code",
      "execution_count": null,
      "source": [
        "!pip install youtube-dl"
      ],
      "outputs": [
        {
          "output_type": "stream",
          "name": "stdout",
          "text": [
            "Looking in indexes: https://pypi.org/simple, https://us-python.pkg.dev/colab-wheels/public/simple/\n",
            "Collecting youtube-dl\n",
            "  Downloading youtube_dl-2021.12.17-py2.py3-none-any.whl (1.9 MB)\n",
            "\u001b[K     |████████████████████████████████| 1.9 MB 4.1 MB/s \n",
            "\u001b[?25hInstalling collected packages: youtube-dl\n",
            "Successfully installed youtube-dl-2021.12.17\n"
          ]
        }
      ],
      "metadata": {
        "id": "ZHK_Kx-M5hX4",
        "outputId": "1a396c5c-eaf9-4444-918b-fde4cae7919f",
        "colab": {
          "base_uri": "https://localhost:8080/"
        }
      }
    },
    {
      "cell_type": "code",
      "execution_count": null,
      "source": [
        "!youtube-dl -x --audio-format wav --output \"audio_sample_full.wav\" https://www.youtube.com/watch?v=69RdQFDuYPI"
      ],
      "outputs": [
        {
          "output_type": "stream",
          "name": "stdout",
          "text": [
            "[youtube] 69RdQFDuYPI: Downloading webpage\n",
            "[youtube] 69RdQFDuYPI: Downloading player bc3f94c3\n",
            "[download] Destination: audio_sample_full.wav\n",
            "\u001b[K[download] 100% of 3.88MiB in 01:02\n",
            "[ffmpeg] Post-process file audio_sample_full.wav exists, skipping\n"
          ]
        }
      ],
      "metadata": {
        "id": "l6CQbtCx8jTm",
        "outputId": "e2c63df4-7aee-4fb9-a4dc-d49e8a451594",
        "colab": {
          "base_uri": "https://localhost:8080/"
        }
      }
    },
    {
      "cell_type": "markdown",
      "source": [
        "**Cropping the wav file to 30s section**"
      ],
      "metadata": {
        "id": "KKLMjaQVY5HC"
      }
    },
    {
      "cell_type": "code",
      "execution_count": null,
      "source": [
        "!pip install pydub"
      ],
      "outputs": [
        {
          "output_type": "stream",
          "name": "stdout",
          "text": [
            "Looking in indexes: https://pypi.org/simple, https://us-python.pkg.dev/colab-wheels/public/simple/\n",
            "Collecting pydub\n",
            "  Downloading pydub-0.25.1-py2.py3-none-any.whl (32 kB)\n",
            "Installing collected packages: pydub\n",
            "Successfully installed pydub-0.25.1\n"
          ]
        }
      ],
      "metadata": {
        "colab": {
          "base_uri": "https://localhost:8080/"
        },
        "id": "E2E3KLMKI1A1",
        "outputId": "686dada2-3d02-486a-8534-c2bcd26fd99f"
      }
    },
    {
      "cell_type": "code",
      "execution_count": null,
      "source": [
        "from pydub import AudioSegment\n",
        "t1 = 60000 #Works in milliseconds\n",
        "t2 = 90000\n",
        "waveFile = AudioSegment.from_file(\"audio_sample_full.wav\")\n",
        "waveFile = waveFile[t1:t2]\n",
        "waveFile.export('audio_sample_30s.wav', format=\"wav\")"
      ],
      "outputs": [
        {
          "output_type": "execute_result",
          "data": {
            "text/plain": [
              "<_io.BufferedRandom name='audio_sample_30s.wav'>"
            ]
          },
          "metadata": {},
          "execution_count": 56
        }
      ],
      "metadata": {
        "colab": {
          "base_uri": "https://localhost:8080/"
        },
        "id": "GaLTcn0wIzbn",
        "outputId": "55c33beb-374f-4974-a483-1d0f5a648d2b"
      }
    },
    {
      "cell_type": "markdown",
      "source": [
        "**Predicting the genre**"
      ],
      "metadata": {
        "id": "q7uSONWyZHdS"
      }
    },
    {
      "cell_type": "code",
      "execution_count": 75,
      "source": [
        "file_path = \"audio_sample_30s.wav\"\n",
        "feature = get_feature(file_path)\n",
        "y = model.predict(feature.reshape(1,498))\n",
        "ind = numpy.argmax(y)\n",
        "genres[ind]"
      ],
      "outputs": [
        {
          "output_type": "execute_result",
          "data": {
            "application/vnd.google.colaboratory.intrinsic+json": {
              "type": "string"
            },
            "text/plain": [
              "'reggae'"
            ]
          },
          "metadata": {},
          "execution_count": 75
        }
      ],
      "metadata": {
        "id": "JQ_aJxS68BsG",
        "colab": {
          "base_uri": "https://localhost:8080/",
          "height": 35
        },
        "outputId": "9560cf47-940f-4241-9dd5-19fa1792beb1"
      }
    }
  ]
}